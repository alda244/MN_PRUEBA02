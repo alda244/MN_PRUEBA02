{
 "cells": [
  {
   "cell_type": "code",
   "execution_count": 1,
   "metadata": {},
   "outputs": [],
   "source": [
    "%load_ext autoreload"
   ]
  },
  {
   "cell_type": "markdown",
   "metadata": {},
   "source": [
    "# Examen"
   ]
  },
  {
   "cell_type": "markdown",
   "metadata": {},
   "source": [
    "## Determinante"
   ]
  },
  {
   "cell_type": "code",
   "execution_count": 19,
   "metadata": {},
   "outputs": [],
   "source": [
    "%autoreload 2\n",
    "from src import (\n",
    "    eliminacion_gaussiana,\n",
    "    descomposicion_LU,\n",
    "    resolver_LU,\n",
    "    matriz_aumentada,\n",
    "    separar_m_aumentada,\n",
    ")\n",
    "\n"
   ]
  },
  {
   "cell_type": "code",
   "execution_count": 40,
   "metadata": {},
   "outputs": [],
   "source": [
    "import numpy as np\n",
    "## Usar eliminacion gaussiana modificada para solo la matriz A\n",
    "\n",
    "def eliminacion_gaussiana2(A: list[list[float]]) -> np.ndarray:\n",
    "    \"\"\"Función que aplica la eliminación gaussiana a la matriz A.\n",
    "\n",
    "    ## Parameters\n",
    "    ``A``: Matriz cuadrada de tamaño n x n\n",
    "\n",
    "    ## Return\n",
    "    ``A``: Matriz triangular superior obtenida después de aplicar la eliminación gaussiana\n",
    "    \"\"\"\n",
    "    A = np.array(A, dtype=float)  # convertir en float, porque si no, puede convertir como entero\n",
    "\n",
    "    assert A.shape[0] == A.shape[1], \"La matriz A debe ser cuadrada.\"\n",
    "    n = A.shape[0]\n",
    "\n",
    "    for i in range(n):  # loop por columna\n",
    "\n",
    "        # --- determinar pivote\n",
    "        if A[i, i] == 0:\n",
    "            raise ValueError(\"No existe solución única.\")\n",
    "\n",
    "        # --- Eliminación: loop por fila\n",
    "        for j in range(i + 1, n):\n",
    "            m = A[j, i] / A[i, i]\n",
    "            A[j, i:] = A[j, i:] - m * A[i, i:]\n",
    "\n",
    "    if A[n - 1, n - 1] == 0:\n",
    "        raise ValueError(\"No existe solución única.\")\n",
    "\n",
    "    return A\n",
    "\n",
    "def calc_determinante(A: list[list[float]]) -> float:\n",
    "    \"\"\"Función que calcula el determinante usando el método de eliminación gaussiana.\n",
    "\n",
    "    ## Parametros\n",
    "    ``A``: Matriz cuadrada de tamaño n x n\n",
    "\n",
    "    ## Return\n",
    "    ``detA``: Determinante de la matriz A\n",
    "\n",
    "    \"\"\"\n",
    "    A = eliminacion_gaussiana2(A)\n",
    "    detA = np.prod(np.diagonal(A))\n",
    "    return detA"
   ]
  },
  {
   "cell_type": "markdown",
   "metadata": {},
   "source": [
    "# Ejercicio 1"
   ]
  },
  {
   "cell_type": "code",
   "execution_count": 42,
   "metadata": {},
   "outputs": [
    {
     "name": "stdout",
     "output_type": "stream",
     "text": [
      "[[-4.00000000e+00  2.00000000e+00 -4.00000000e+00 -4.00000000e+00\n",
      "   1.00000000e+00  2.00000000e+00  5.00000000e+00  3.00000000e+00\n",
      "   5.00000000e+00  1.00000000e+00]\n",
      " [ 0.00000000e+00  5.00000000e-01  3.00000000e+00  2.00000000e+00\n",
      "   2.50000000e-01 -1.50000000e+00  4.25000000e+00  7.50000000e-01\n",
      "   2.25000000e+00  5.25000000e+00]\n",
      " [ 0.00000000e+00  0.00000000e+00 -5.40000000e+01 -3.00000000e+01\n",
      "  -6.50000000e+00  2.70000000e+01 -5.55000000e+01 -5.50000000e+00\n",
      "  -2.35000000e+01 -7.35000000e+01]\n",
      " [ 0.00000000e+00  0.00000000e+00  0.00000000e+00 -4.44444444e+00\n",
      "  -4.29629630e+00  2.00000000e+00 -7.22222222e+00 -3.48148148e+00\n",
      "  -8.14814815e+00 -7.88888889e+00]\n",
      " [ 0.00000000e+00  0.00000000e+00  0.00000000e+00  0.00000000e+00\n",
      "   5.53333333e+00  2.00000000e-01  7.50000000e+00  2.46666667e+00\n",
      "   6.66666667e+00  3.10000000e+00]\n",
      " [ 0.00000000e+00  0.00000000e+00  0.00000000e+00  0.00000000e+00\n",
      "   0.00000000e+00 -3.30421687e+00  1.05918675e+01  1.83132530e+00\n",
      "   1.19427711e+01  6.28463855e+00]\n",
      " [ 0.00000000e+00  0.00000000e+00  0.00000000e+00  0.00000000e+00\n",
      "  -2.22044605e-16  0.00000000e+00 -5.25979945e-01 -2.45214221e-01\n",
      "  -5.88696445e+00  1.71194166e+00]\n",
      " [ 0.00000000e+00  0.00000000e+00  0.00000000e+00  0.00000000e+00\n",
      "   0.00000000e+00  0.00000000e+00  0.00000000e+00 -2.89991334e+00\n",
      "   7.30264298e+01 -2.02647314e+01]\n",
      " [ 0.00000000e+00  0.00000000e+00  0.00000000e+00  0.00000000e+00\n",
      "   0.00000000e+00  0.00000000e+00  0.00000000e+00  0.00000000e+00\n",
      "  -4.17418945e+01  6.03331839e+00]\n",
      " [ 0.00000000e+00  0.00000000e+00  0.00000000e+00  0.00000000e+00\n",
      "   0.00000000e+00  0.00000000e+00  0.00000000e+00  0.00000000e+00\n",
      "   0.00000000e+00 -1.77407639e+01]]\n"
     ]
    },
    {
     "data": {
      "text/plain": [
       "9912776.000000015"
      ]
     },
     "execution_count": 42,
     "metadata": {},
     "output_type": "execute_result"
    }
   ],
   "source": [
    "# A1 = [\n",
    "#     [-4.0, 2.0, -4, -4, 1, 2, 5, 3, 5, 1],\n",
    "#     [1, 0, 4, 3, 0, -2, 3, 0, 1, 5],\n",
    "#     [5, 5, -4, 5, -4, 2, 2, 2, 4, 4],\n",
    "#     [-1, 3, 4, -1, -4, 0, 5, 0, 0, 5],\n",
    "#     [4, 1, 4, 2, 0, 0, 3, -1, 0, 2],\n",
    "#     [2, -2, 1, -1, -2, -3, 2, -2, 4, -1],\n",
    "#     [3, -2, -3, -2, -1, -3, 5, -1, 5, 0],\n",
    "#     [3, 4, -3, 3, -2, 2, -4, -4, 1, 5],\n",
    "#     [-4, 0, 3, 3, -3, -2, -2, 0, 5, -4],\n",
    "#     [-2, 4, 4, -2, -1, 1, 5, -1, 3, -3],\n",
    "# ]\n",
    "\n",
    "A1 = [\n",
    "    [-4.0, 2.0, -4.0, -4.0, 1.0, 2.0, 5.0, 3.0, 5.0, 1.0],\n",
    "    [1.0, 0.0, 4.0, 3.0, 0.0, -2.0, 3.0, 0.0, 1.0, 5.0],\n",
    "    [5.0, 5.0, -4.0, 5.0, -4.0, 2.0, 2.0, 2.0, 4.0, 4.0],\n",
    "    [-1.0, 3.0, 4.0, -1.0, -4.0, 0.0, 5.0, 0.0, 0.0, 5.0],\n",
    "    [4.0, 1.0, 4.0, 2.0, 0.0, 0.0, 3.0, -1.0, 0.0, 2.0],\n",
    "    [2.0, -2.0, 1.0, -1.0, -2.0, -3.0, 2.0, -2.0, 4.0, -1.0],\n",
    "    [3.0, -2.0, -3.0, -2.0, -1.0, -3.0, 5.0, -1.0, 5.0, 0.0],\n",
    "    [3.0, 4.0, -3.0, 3.0, -2.0, 2.0, -4.0, -4.0, 1.0, 5.0],\n",
    "    [-4.0, 0.0, 3.0, 3.0, -3.0, -2.0, -2.0, 0.0, 5.0, -4.0],\n",
    "    [-2.0, 4.0, 4.0, -2.0, -1.0, 1.0, 5.0, -1.0, 3.0, -3.0],\n",
    "]\n",
    "print(eliminacion_gaussiana2(A1))\n",
    "calc_determinante(A1)"
   ]
  },
  {
   "cell_type": "markdown",
   "metadata": {},
   "source": [
    "# Ejercicio 2"
   ]
  },
  {
   "cell_type": "code",
   "execution_count": 46,
   "metadata": {},
   "outputs": [
    {
     "name": "stdout",
     "output_type": "stream",
     "text": [
      "No existe solución única.\n"
     ]
    }
   ],
   "source": [
    "A2 = [\n",
    "    [2, 2, 4, 5, -2, -3, 2, -2],\n",
    "    [-1, -1, 3, 2, 1, 1, -4, 4],\n",
    "    [2, 5, -3, -3, -2, 2, 5, 3],\n",
    "    [-2, -4, 0, 1, -1, 5, -4, -1],\n",
    "    [1, -2, -1, 5, 5, 2, 1, -2],\n",
    "    [5, 4, 0, 3, 4, -1, -3, -2],\n",
    "    [4, -4, 1, 2, 3, 3, -1, 3],\n",
    "    [-2, 1, -3, 0, 5, 4, 4, -4],\n",
    "]\n",
    "try:\n",
    "    print(eliminacion_gaussiana2(A2))\n",
    "    print(calc_determinante(A2))\n",
    "except ValueError as e:\n",
    "    print(e)"
   ]
  }
 ],
 "metadata": {
  "kernelspec": {
   "display_name": "base",
   "language": "python",
   "name": "python3"
  },
  "language_info": {
   "codemirror_mode": {
    "name": "ipython",
    "version": 3
   },
   "file_extension": ".py",
   "mimetype": "text/x-python",
   "name": "python",
   "nbconvert_exporter": "python",
   "pygments_lexer": "ipython3",
   "version": "3.12.4"
  }
 },
 "nbformat": 4,
 "nbformat_minor": 2
}
